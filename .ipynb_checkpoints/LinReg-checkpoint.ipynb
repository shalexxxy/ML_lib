{
 "cells": [
  {
   "cell_type": "code",
   "execution_count": 116,
   "id": "6ea19820",
   "metadata": {},
   "outputs": [],
   "source": [
    "import numpy as np\n",
    "import pandas as pd\n",
    "import matplotlib.pyplot as plt\n"
   ]
  },
  {
   "cell_type": "code",
   "execution_count": 117,
   "id": "1e51c799",
   "metadata": {},
   "outputs": [],
   "source": [
    "class LinearRegression:\n",
    "    \n",
    "    def __init__(self, reg = None):\n",
    "        self.reg = reg\n",
    "     \n",
    "    def calc_grad(self, x,y, step = 1):\n",
    "        grad = np.array([0 for i in range(self.weights.shape[0])])\n",
    "        \n",
    "        for i in range(len(self.weights)):\n",
    "            weights = self.weights.copy()\n",
    "            weights[i] += step\n",
    "            grad[i] = (self.calc_loss_w(x,y, weights) - self.calc_loss_w(x, y, self.weights))/step\n",
    "        return grad\n",
    "        \n",
    "    def calc_loss(self, x,y):\n",
    "        x = np.c_[x, np.ones(x.shape[0])]\n",
    "        y_pred = x.dot(self.weights.T)\n",
    "        return sum((y - y_pred)**2)/y.shape[0]\n",
    "    \n",
    "    def calc_loss_w(self, x, y, weights):\n",
    "        x = np.c_[x, np.ones(x.shape[0])]\n",
    "        y_pred = x.dot(weights.T)\n",
    "        return sum((y - y_pred)**2)/y.shape[0]\n",
    "    \n",
    "    def fit(self,x_train, y_train):\n",
    "        x_train = np.c_[ x_train, np.ones(x_train.shape[0])] \n",
    "        a = x_train.T.dot(x_train)\n",
    "        b = x_train.T.dot(y_train)\n",
    "        self.weights = np.linalg.solve(a,b)\n",
    "        \n",
    "    def fit_custom(self, x,y, learning_rate):\n",
    "        self.weights = np.random.normal(0,1,len(x[0])+1)\n",
    "        loss = np.inf\n",
    "        current_loss = self.calc_loss(x,y)\n",
    "        while (abs(loss - current_loss)/current_loss) > 0.0001:\n",
    "            loss = current_loss\n",
    "            grad = self.calc_grad(x,y)\n",
    "            self.weights = self.weights - grad*learning_rate\n",
    "         #   print(self.weights)\n",
    "            current_loss = self.calc_loss(x,y)\n",
    "            \n",
    "        \n",
    "    def predict(self, x):\n",
    "        x = np.c_[ x, np.ones(x.shape[0]) ]\n",
    "        return x.dot(self.weights.T)\n",
    "\n",
    "        \n",
    "        "
   ]
  },
  {
   "cell_type": "code",
   "execution_count": 118,
   "id": "177426e6",
   "metadata": {
    "collapsed": true,
    "jupyter": {
     "outputs_hidden": true
    },
    "tags": []
   },
   "outputs": [
    {
     "ename": "AttributeError",
     "evalue": "'LinearRegression' object has no attribute 'test'",
     "output_type": "error",
     "traceback": [
      "\u001b[1;31m---------------------------------------------------------------------------\u001b[0m",
      "\u001b[1;31mAttributeError\u001b[0m                            Traceback (most recent call last)",
      "\u001b[1;32m~\\AppData\\Local\\Temp/ipykernel_12920/701445743.py\u001b[0m in \u001b[0;36m<module>\u001b[1;34m\u001b[0m\n\u001b[1;32m----> 1\u001b[1;33m \u001b[0mx\u001b[0m\u001b[1;33m,\u001b[0m\u001b[0my\u001b[0m \u001b[1;33m=\u001b[0m \u001b[0mLinearRegression\u001b[0m\u001b[1;33m(\u001b[0m\u001b[1;33m)\u001b[0m\u001b[1;33m.\u001b[0m\u001b[0mtest\u001b[0m\u001b[1;33m(\u001b[0m\u001b[1;36m10\u001b[0m\u001b[1;33m)\u001b[0m\u001b[1;33m\u001b[0m\u001b[1;33m\u001b[0m\u001b[0m\n\u001b[0m",
      "\u001b[1;31mAttributeError\u001b[0m: 'LinearRegression' object has no attribute 'test'"
     ]
    }
   ],
   "source": []
  },
  {
   "cell_type": "code",
   "execution_count": 14,
   "id": "26bbee6b",
   "metadata": {
    "tags": []
   },
   "outputs": [
    {
     "data": {
      "text/plain": [
       "array([0.19282788, 0.54372509, 0.33393078])"
      ]
     },
     "execution_count": 14,
     "metadata": {},
     "output_type": "execute_result"
    }
   ],
   "source": [
    "x = np.random.normal(0,1,(10,3))\n",
    "y = np.random.normal(0,1,10)\n",
    "a = x.T.dot(x)\n",
    "b = x.T.dot(y)\n",
    "np.linalg.solve(a,b)"
   ]
  },
  {
   "cell_type": "code",
   "execution_count": 129,
   "id": "7e9c843a",
   "metadata": {},
   "outputs": [
    {
     "data": {
      "image/png": "[encoded data removed]",
      "text/plain": [
       "<Figure size 432x288 with 1 Axes>"
      ]
     },
     "metadata": {
      "needs_background": "light"
     },
     "output_type": "display_data"
    },
    {
     "name": "stdout",
     "output_type": "stream",
     "text": [
      "91.78724088308255 0.35386986215593963 14607.878944541955\n"
     ]
    }
   ],
   "source": [
    "from sklearn.metrics import mean_absolute_error, mean_absolute_percentage_error, mean_squared_error\n",
    "data = pd.read_csv('Fish.csv')\n",
    "x = data[['Length1', 'Length2', 'Length3', 'Height', 'Width']]\n",
    "y = data['Weight']\n",
    "\n",
    "x = x.to_numpy()\n",
    "y = y.to_numpy()\n",
    "\n",
    "x[:,0] = x[:,0]/np.linalg.norm(x[:,0])\n",
    "x[:,1] = x[:,1]/np.linalg.norm(x[:,1])\n",
    "x[:,2] = x[:,2]/np.linalg.norm(x[:,2])\n",
    "x[:,3] = x[:,3]/np.linalg.norm(x[:,3])\n",
    "x[:,4] = x[:,4]/np.linalg.norm(x[:,4])\n",
    "\n",
    "\n",
    "model = LinearRegression()\n",
    "model.fit(x,y)\n",
    "\n",
    "data_x = data['Length3']\n",
    "y = data['Weight']\n",
    "y_pred = model.predict(x)\n",
    "\n",
    "\n",
    "plt.scatter(data_x,y)\n",
    "plt.scatter(data_x, y_pred, c = 'r')\n",
    "plt.show()\n",
    "print(mean_absolute_error(y_pred, y), mean_absolute_percentage_error(y_pred, y), mean_squared_error(y_pred, y))"
   ]
  },
  {
   "cell_type": "code",
   "execution_count": 81,
   "id": "8774c0ca",
   "metadata": {},
   "outputs": [
    {
     "data": {
      "text/plain": [
       "array([ 22074.63277965,  -2498.38893602, -12189.05757418,   3545.51547334,\n",
       "         1339.33744165,   -499.58695536])"
      ]
     },
     "execution_count": 81,
     "metadata": {},
     "output_type": "execute_result"
    }
   ],
   "source": [
    "model.weights"
   ]
  },
  {
   "cell_type": "code",
   "execution_count": 7,
   "id": "df1441ac",
   "metadata": {},
   "outputs": [
    {
     "data": {
      "text/plain": [
       "array([-105803.64353234,  -53125.94729536,   20628.26266815,\n",
       "         15835.20554595,  -10034.3653028 ])"
      ]
     },
     "execution_count": 7,
     "metadata": {},
     "output_type": "execute_result"
    }
   ],
   "source": [
    "np.gradient(model.weights)"
   ]
  },
  {
   "cell_type": "code",
   "execution_count": 29,
   "id": "f4fa4e99",
   "metadata": {},
   "outputs": [
    {
     "data": {
      "text/plain": [
       "(159,)"
      ]
     },
     "execution_count": 29,
     "metadata": {},
     "output_type": "execute_result"
    }
   ],
   "source": [
    "y.shape"
   ]
  },
  {
   "cell_type": "code",
   "execution_count": 128,
   "id": "8badef2f",
   "metadata": {
    "tags": []
   },
   "outputs": [],
   "source": [
    "data = pd.read_csv('Fish.csv')\n",
    "x = data[['Length1', 'Length2', 'Length3', 'Height', 'Width']]\n",
    "y = data['Weight']\n",
    "\n",
    "x = x.to_numpy()\n",
    "y = y.to_numpy()\n",
    "\n",
    "x[:,0] = x[:,0]/np.linalg.norm(x[:,0])\n",
    "x[:,1] = x[:,1]/np.linalg.norm(x[:,1])\n",
    "x[:,2] = x[:,2]/np.linalg.norm(x[:,2])\n",
    "x[:,3] = x[:,3]/np.linalg.norm(x[:,3])\n",
    "x[:,4] = x[:,4]/np.linalg.norm(x[:,4])\n",
    "\n",
    "model = LinearRegression()\n",
    "model.fit_custom(x,y,0.1)"
   ]
  },
  {
   "cell_type": "code",
   "execution_count": 121,
   "id": "52b1981c-ad66-44a0-808b-194850383482",
   "metadata": {},
   "outputs": [
    {
     "data": {
      "text/plain": [
       "array([2314.43224418, 2290.82401059, 2242.28146198, 1948.81035271,\n",
       "       2175.44003586, -410.82143387])"
      ]
     },
     "execution_count": 121,
     "metadata": {},
     "output_type": "execute_result"
    }
   ],
   "source": [
    "model.weights"
   ]
  },
  {
   "cell_type": "code",
   "execution_count": 124,
   "id": "13bec8c0-9226-4463-b433-f6c8cf197431",
   "metadata": {},
   "outputs": [
    {
     "data": {
      "text/plain": [
       "<matplotlib.collections.PathCollection at 0x2493f8e2be0>"
      ]
     },
     "execution_count": 124,
     "metadata": {},
     "output_type": "execute_result"
    },
    {
     "data": {
      "image/png": "[encoded data removed]",
      "text/plain": [
       "<Figure size 432x288 with 1 Axes>"
      ]
     },
     "metadata": {
      "needs_background": "light"
     },
     "output_type": "display_data"
    }
   ],
   "source": [
    "\n",
    "data_x = data['Length3']\n",
    "y = data['Weight']\n",
    "y_pred = model.predict(x)\n",
    "\n",
    "\n",
    "plt.scatter(data_x,y)\n",
    "plt.scatter(data_x, y_pred, c = 'r')"
   ]
  },
  {
   "cell_type": "code",
   "execution_count": 127,
   "id": "6df2ecb7-b943-4474-882e-fc830df71042",
   "metadata": {},
   "outputs": [
    {
     "data": {
      "text/plain": [
       "0.4508917106824345"
      ]
     },
     "execution_count": 127,
     "metadata": {},
     "output_type": "execute_result"
    }
   ],
   "source": [
    "from sklearn.metrics import mean_absolute_error, mean_absolute_percentage_error\n",
    "mean_absolute_percentage_error(y_pred, y)"
   ]
  },
  {
   "cell_type": "code",
   "execution_count": 134,
   "id": "cd2d2b46-86f3-4b13-95be-f7fafe313695",
   "metadata": {},
   "outputs": [
    {
     "data": {
      "text/plain": [
       "array([13394.72591124])"
      ]
     },
     "execution_count": 134,
     "metadata": {},
     "output_type": "execute_result"
    }
   ],
   "source": [
    "model.predict(np.array([[10,20,30,40,50]]))"
   ]
  }
 ],
 "metadata": {
  "kernelspec": {
   "display_name": "Python 3 (ipykernel)",
   "language": "python",
   "name": "python3"
  },
  "language_info": {
   "codemirror_mode": {
    "name": "ipython",
    "version": 3
   },
   "file_extension": ".py",
   "mimetype": "text/x-python",
   "name": "python",
   "nbconvert_exporter": "python",
   "pygments_lexer": "ipython3",
   "version": "3.9.6"
  }
 },
 "nbformat": 4,
 "nbformat_minor": 5
}
