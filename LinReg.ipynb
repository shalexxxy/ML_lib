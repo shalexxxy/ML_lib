{
 "cells": [
  {
   "cell_type": "code",
   "execution_count": 1,
   "id": "6ea19820",
   "metadata": {},
   "outputs": [],
   "source": [
    "import numpy as np\n",
    "import pandas as pd\n",
    "import matplotlib.pyplot as plt\n"
   ]
  },
  {
   "cell_type": "code",
   "execution_count": 6,
   "id": "1e51c799",
   "metadata": {},
   "outputs": [],
   "source": [
    "\n",
    "\n",
    "def mse(x, y, weights):\n",
    "    x = np.c_[x, np.ones(x.shape[0])]\n",
    "    y_pred = x.dot(weights.T)\n",
    "    return sum((y - y_pred)**2)/y.shape[0]\n",
    "\n",
    "\n",
    "def mse_l1(x, y, weights):\n",
    "    x = np.c_[x, np.ones(x.shape[0])]\n",
    "    y_pred = x.dot(weights.T)\n",
    "    return sum((y - y_pred)**2)/y.shape[0] + np.sum(np.abs(weights))\n",
    "\n",
    "def mse_l2(x, y, weights):\n",
    "    x = np.c_[x, np.ones(x.shape[0])]\n",
    "    y_pred = x.dot(weights.T)\n",
    "    return sum((y - y_pred)**2)/y.shape[0] + np.sum(weights**2)\n",
    "\n",
    "\n",
    "def mae(x, y, weights):\n",
    "    x = np.c_[x, np.ones(x.shape[0])]\n",
    "    y_pred = x.dot(weights.T)\n",
    "    return sum(np.abs(y - y_pred))/y.shape[0]\n",
    "\n",
    "\n",
    "class LinearRegression:\n",
    "    def __init__(self, reg = None):\n",
    "        self.reg = reg\n",
    "     \n",
    "    def calc_grad(self, x,y, func, step = 0.0001):\n",
    "        grad = np.array([0 for i in range(self.weights.shape[0])])\n",
    "        \n",
    "        for i in range(len(self.weights)):\n",
    "            weights = self.weights.copy()\n",
    "            weights[i] += step\n",
    "            grad[i] = (func(x,y, weights) - func(x, y, self.weights))/step\n",
    "        return grad\n",
    "    \n",
    "    \n",
    "    def fit(self,x_train, y_train):\n",
    "        x_train = np.c_[ x_train, np.ones(x_train.shape[0])] \n",
    "        a = x_train.T.dot(x_train)\n",
    "        b = x_train.T.dot(y_train)\n",
    "        self.weights = np.linalg.solve(a,b)\n",
    "        \n",
    "    def fit_custom(self, x,y, learning_rate, func = mse):\n",
    "        self.weights = np.random.normal(0,1,len(x[0])+1)\n",
    "        loss = np.inf\n",
    "        current_loss = func(x,y, self.weights)\n",
    "        while (abs(loss - current_loss)/current_loss) > 10**(-10):\n",
    "            loss = current_loss\n",
    "            grad = self.calc_grad(x,y, func)\n",
    "            self.weights = self.weights - grad*learning_rate\n",
    "         #   print(self.weights)\n",
    "            current_loss = func(x,y, self.weights)\n",
    "            \n",
    "        \n",
    "    def predict(self, x):\n",
    "        x = np.c_[ x, np.ones(x.shape[0])]\n",
    "        return x.dot(self.weights.T)\n",
    "\n",
    "        \n",
    "        "
   ]
  },
  {
   "cell_type": "code",
   "execution_count": null,
   "id": "df1441ac",
   "metadata": {},
   "outputs": [],
   "source": []
  },
  {
   "cell_type": "code",
   "execution_count": null,
   "id": "f4fa4e99",
   "metadata": {},
   "outputs": [],
   "source": []
  },
  {
   "cell_type": "code",
   "execution_count": 10,
   "id": "8badef2f",
   "metadata": {
    "tags": []
   },
   "outputs": [],
   "source": [
    "data = pd.read_csv('Fish.csv')\n",
    "x = data[['Length1', 'Length2', 'Length3', 'Height', 'Width']]\n",
    "y = data['Weight']\n",
    "\n",
    "x = x.to_numpy()\n",
    "y = y.to_numpy()\n",
    "\n",
    "x[:,0] = x[:,0]/np.linalg.norm(x[:,0])\n",
    "x[:,1] = x[:,1]/np.linalg.norm(x[:,1])\n",
    "x[:,2] = x[:,2]/np.linalg.norm(x[:,2])\n",
    "x[:,3] = x[:,3]/np.linalg.norm(x[:,3])\n",
    "x[:,4] = x[:,4]/np.linalg.norm(x[:,4])\n",
    "\n",
    "model = LinearRegression()\n",
    "model.fit_custom(x,y,0.01, mse)"
   ]
  },
  {
   "cell_type": "code",
   "execution_count": 8,
   "id": "52b1981c-ad66-44a0-808b-194850383482",
   "metadata": {},
   "outputs": [
    {
     "data": {
      "text/plain": [
       "array([-1.41516736, -0.12126762, -0.56054637, -0.56483999, -1.01129519,\n",
       "       -0.47749535])"
      ]
     },
     "execution_count": 8,
     "metadata": {},
     "output_type": "execute_result"
    }
   ],
   "source": [
    "\n",
    "model.weights"
   ]
  },
  {
   "cell_type": "code",
   "execution_count": 9,
   "id": "13bec8c0-9226-4463-b433-f6c8cf197431",
   "metadata": {},
   "outputs": [
    {
     "data": {
      "text/plain": [
       "<matplotlib.collections.PathCollection at 0x2267f860ee0>"
      ]
     },
     "execution_count": 9,
     "metadata": {},
     "output_type": "execute_result"
    },
    {
     "data": {
      "image/png": "[encoded data removed]",
      "text/plain": [
       "<Figure size 432x288 with 1 Axes>"
      ]
     },
     "metadata": {
      "needs_background": "light"
     },
     "output_type": "display_data"
    }
   ],
   "source": [
    "\n",
    "data_x = data['Height']\n",
    "y = data['Weight']\n",
    "y_pred = model.predict(x)\n",
    "\n",
    "\n",
    "plt.scatter(data_x,y)\n",
    "plt.scatter(data_x, y_pred, c = 'r')"
   ]
  },
  {
   "cell_type": "code",
   "execution_count": 136,
   "id": "6df2ecb7-b943-4474-882e-fc830df71042",
   "metadata": {},
   "outputs": [
    {
     "data": {
      "text/plain": [
       "284.13831490631964"
      ]
     },
     "execution_count": 136,
     "metadata": {},
     "output_type": "execute_result"
    }
   ],
   "source": [
    "from sklearn.metrics import mean_absolute_error, mean_absolute_percentage_error\n",
    "mean_absolute_error(y_pred, y)"
   ]
  },
  {
   "cell_type": "code",
   "execution_count": null,
   "id": "cd2d2b46-86f3-4b13-95be-f7fafe313695",
   "metadata": {},
   "outputs": [],
   "source": []
  },
  {
   "cell_type": "code",
   "execution_count": 5,
   "id": "3146477c-b0d6-4018-af64-ebc723ed377f",
   "metadata": {},
   "outputs": [],
   "source": [
    "pd.read_csv('Covid Data.csv').head(1000).to_excel('test.xlsx')"
   ]
  }
 ],
 "metadata": {
  "kernelspec": {
   "display_name": "Python 3 (ipykernel)",
   "language": "python",
   "name": "python3"
  },
  "language_info": {
   "codemirror_mode": {
    "name": "ipython",
    "version": 3
   },
   "file_extension": ".py",
   "mimetype": "text/x-python",
   "name": "python",
   "nbconvert_exporter": "python",
   "pygments_lexer": "ipython3",
   "version": "3.9.6"
  }
 },
 "nbformat": 4,
 "nbformat_minor": 5
}
