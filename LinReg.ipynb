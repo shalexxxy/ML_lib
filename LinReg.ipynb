{
 "cells": [
  {
   "cell_type": "code",
   "execution_count": 1,
   "id": "6ea19820",
   "metadata": {},
   "outputs": [],
   "source": [
    "import pandas as pd\n",
    "from ML import *\n",
    "from funcs import *\n",
    "from sklearn.metrics import accuracy_score, mean_absolute_error, mean_absolute_percentage_error, accuracy_score\n",
    "from sklearn.model_selection import train_test_split\n",
    "from sklearn.datasets import load_boston\n",
    "from sklearn.tree import DecisionTreeRegressor, _criterion\n",
    "import time\n"
   ]
  },
  {
   "cell_type": "markdown",
   "id": "7a43d00f-9312-4e36-8240-74233874b608",
   "metadata": {},
   "source": [
    "Regression"
   ]
  },
  {
   "cell_type": "code",
   "execution_count": 2,
   "id": "1980431a-bf0c-4a29-92c8-160ca10b7ade",
   "metadata": {},
   "outputs": [
    {
     "name": "stdout",
     "output_type": "stream",
     "text": [
      "learning completed\n",
      "<ML.Node object at 0x0000011EE5512B80>\n"
     ]
    }
   ],
   "source": [
    "import pandas as pd\n",
    "from ML import *\n",
    "from funcs import *\n",
    "from sklearn.metrics import accuracy_score, mean_absolute_error, mean_absolute_percentage_error\n",
    "from sklearn.model_selection import train_test_split\n",
    "from sklearn.datasets import load_boston\n",
    "from sklearn.tree import DecisionTreeRegressor, _criterion\n",
    "\n",
    "x = pd.DataFrame(load_boston().data)\n",
    "y = pd.DataFrame(load_boston().target)\n",
    "#data = pd.read_csv('Covid Data.csv').dropna()\n",
    "#x = data[['SEX', 'TOBACCO', 'PREGNANT',\t'DIABETES',\t'COPD',\t'ASTHMA',\t'INMSUPR',\t'HIPERTENSION',\t'OTHER_DISEASE',\t'CARDIOVASCULAR',\t'OBESITY',\t'RENAL_CHRONIC'\n",
    "#]]\n",
    "#y = data['CLASIFFICATION_FINAL']\n",
    "#\n",
    "x = x.to_numpy()\n",
    "\n",
    "y = y.to_numpy()\n",
    "x_train, x_test, y_train, y_test = train_test_split(x, y, test_size=0.33, random_state=1)\n",
    "model = RegressionTree()\n",
    "model.fit(x_train, y_train, max_depth = 3)\n",
    "print('learning completed')\n",
    "print(model.lists[0])"
   ]
  },
  {
   "cell_type": "code",
   "execution_count": 3,
   "id": "1e51c799",
   "metadata": {
    "tags": []
   },
   "outputs": [
    {
     "data": {
      "text/plain": [
       "28.624691358024684"
      ]
     },
     "execution_count": 3,
     "metadata": {},
     "output_type": "execute_result"
    }
   ],
   "source": [
    "model.lists[0].prediction"
   ]
  },
  {
   "cell_type": "code",
   "execution_count": 4,
   "id": "df1441ac",
   "metadata": {
    "collapsed": true,
    "jupyter": {
     "outputs_hidden": true
    },
    "tags": []
   },
   "outputs": [
    {
     "ename": "AttributeError",
     "evalue": "'RandomRegressionForest' object has no attribute 'fast_predict'",
     "output_type": "error",
     "traceback": [
      "\u001b[1;31m---------------------------------------------------------------------------\u001b[0m",
      "\u001b[1;31mAttributeError\u001b[0m                            Traceback (most recent call last)",
      "\u001b[1;32m~\\AppData\\Local\\Temp/ipykernel_7772/2861280161.py\u001b[0m in \u001b[0;36m<module>\u001b[1;34m\u001b[0m\n\u001b[1;32m----> 1\u001b[1;33m \u001b[0mpred1\u001b[0m \u001b[1;33m=\u001b[0m \u001b[0mmodel\u001b[0m\u001b[1;33m.\u001b[0m\u001b[0mfast_predict\u001b[0m\u001b[1;33m(\u001b[0m\u001b[0mx_test\u001b[0m\u001b[1;33m)\u001b[0m\u001b[1;33m\u001b[0m\u001b[1;33m\u001b[0m\u001b[0m\n\u001b[0m\u001b[0;32m      2\u001b[0m \u001b[0mmean_absolute_error\u001b[0m\u001b[1;33m(\u001b[0m\u001b[0mpred1\u001b[0m\u001b[1;33m,\u001b[0m \u001b[0my_test\u001b[0m\u001b[1;33m)\u001b[0m\u001b[1;33m\u001b[0m\u001b[1;33m\u001b[0m\u001b[0m\n",
      "\u001b[1;31mAttributeError\u001b[0m: 'RandomRegressionForest' object has no attribute 'fast_predict'"
     ]
    }
   ],
   "source": [
    "pred1 = model.fast_predict(x_test)\n",
    "mean_absolute_error(pred1, y_test)"
   ]
  },
  {
   "cell_type": "code",
   "execution_count": 6,
   "id": "f4fa4e99",
   "metadata": {},
   "outputs": [
    {
     "data": {
      "text/plain": [
       "3.2384001023320517"
      ]
     },
     "execution_count": 6,
     "metadata": {},
     "output_type": "execute_result"
    }
   ],
   "source": [
    "pred2 = model.predict(x_test)\n",
    "mean_absolute_error(pred2, y_test)"
   ]
  },
  {
   "cell_type": "code",
   "execution_count": 3,
   "id": "8badef2f",
   "metadata": {
    "tags": []
   },
   "outputs": [
    {
     "name": "stdout",
     "output_type": "stream",
     "text": [
      "--- 9.60463261604309 seconds ---\n"
     ]
    }
   ],
   "source": [
    "import time\n",
    "start_time = time.time()\n",
    "model = RandomRegressionForest()\n",
    "model.fit(x_train, y_train)\n",
    "print(\"--- %s seconds ---\" % (time.time() - start_time))\n"
   ]
  },
  {
   "cell_type": "code",
   "execution_count": 4,
   "id": "52b1981c-ad66-44a0-808b-194850383482",
   "metadata": {
    "tags": []
   },
   "outputs": [
    {
     "name": "stdout",
     "output_type": "stream",
     "text": [
      "--- 0.21497416496276855 seconds ---\n"
     ]
    }
   ],
   "source": [
    "start_time = time.time()\n",
    "model.predict(x_test)\n",
    "print(\"--- %s seconds ---\" % (time.time() - start_time))"
   ]
  },
  {
   "cell_type": "markdown",
   "id": "e5e18d48-af10-424b-b67b-f5404101d97a",
   "metadata": {},
   "source": [
    "Classification"
   ]
  },
  {
   "cell_type": "code",
   "execution_count": 2,
   "id": "6df2ecb7-b943-4474-882e-fc830df71042",
   "metadata": {},
   "outputs": [],
   "source": [
    "data = pd.read_csv('Covid Data.csv').dropna()\n",
    "x = data[['SEX', 'TOBACCO', 'PREGNANT',\t'DIABETES',\t'COPD',\t'ASTHMA',\t'INMSUPR',\t'HIPERTENSION',\t'OTHER_DISEASE',\t'CARDIOVASCULAR',\t'OBESITY',\t'RENAL_CHRONIC'\n",
    "]]\n",
    "y = data['CLASIFFICATION_FINAL']"
   ]
  },
  {
   "cell_type": "code",
   "execution_count": 3,
   "id": "cd2d2b46-86f3-4b13-95be-f7fafe313695",
   "metadata": {},
   "outputs": [],
   "source": [
    "x_train, x_test, y_train, y_test = train_test_split(x, y, test_size=0.33)"
   ]
  },
  {
   "cell_type": "code",
   "execution_count": 4,
   "id": "3146477c-b0d6-4018-af64-ebc723ed377f",
   "metadata": {},
   "outputs": [
    {
     "name": "stdout",
     "output_type": "stream",
     "text": [
      "learning completed\n"
     ]
    }
   ],
   "source": [
    "model = ClassificationTree()\n",
    "model.fit(x_train, y_train, max_depth = 3)\n",
    "print('learning completed')"
   ]
  },
  {
   "cell_type": "code",
   "execution_count": 6,
   "id": "b68d1282-495b-4526-a317-2b43b6ac4081",
   "metadata": {},
   "outputs": [
    {
     "name": "stdout",
     "output_type": "stream",
     "text": [
      "--- 1401.0980293750763 seconds ---\n",
      "0.4915932144611739\n"
     ]
    }
   ],
   "source": [
    "start_time = time.time()\n",
    "pred1 = model.predict(x_test)\n",
    "print(\"--- %s seconds ---\" % (time.time() - start_time))\n",
    "print(accuracy_score(pred1, y_test))"
   ]
  },
  {
   "cell_type": "code",
   "execution_count": 8,
   "id": "debff31a-d475-4d65-883d-f8b5502b6fd6",
   "metadata": {},
   "outputs": [
    {
     "name": "stdout",
     "output_type": "stream",
     "text": [
      "--- 0.503075122833252 seconds ---\n",
      "0.45008525272375227\n"
     ]
    }
   ],
   "source": [
    "start_time = time.time()\n",
    "pred2 = model.fast_predict(x_test)\n",
    "print(\"--- %s seconds ---\" % (time.time() - start_time))\n",
    "print(accuracy_score(pred1, y_test))"
   ]
  },
  {
   "cell_type": "code",
   "execution_count": 13,
   "id": "34e64b78-cb07-40c8-a010-839f56dc1beb",
   "metadata": {},
   "outputs": [
    {
     "data": {
      "text/plain": [
       "(1, 2, 2, 1, 2, 2, 2, 1, 2, 2, 2, 2, 3)"
      ]
     },
     "execution_count": 13,
     "metadata": {},
     "output_type": "execute_result"
    }
   ],
   "source": [
    "model.lists[0].prediction"
   ]
  },
  {
   "cell_type": "code",
   "execution_count": null,
   "id": "4f3d301d-38dd-46aa-a7f5-25dbe8306e35",
   "metadata": {},
   "outputs": [],
   "source": []
  }
 ],
 "metadata": {
  "kernelspec": {
   "display_name": "Python 3 (ipykernel)",
   "language": "python",
   "name": "python3"
  },
  "language_info": {
   "codemirror_mode": {
    "name": "ipython",
    "version": 3
   },
   "file_extension": ".py",
   "mimetype": "text/x-python",
   "name": "python",
   "nbconvert_exporter": "python",
   "pygments_lexer": "ipython3",
   "version": "3.9.6"
  }
 },
 "nbformat": 4,
 "nbformat_minor": 5
}
